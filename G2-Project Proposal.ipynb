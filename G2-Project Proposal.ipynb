{
 "cells": [
  {
   "attachments": {},
   "cell_type": "markdown",
   "metadata": {},
   "source": [
    "# DSCI 631: House Price Prediction Project  <br> Term Project Phase 1: Scoping an analytics project"
   ]
  },
  {
   "attachments": {},
   "cell_type": "markdown",
   "metadata": {},
   "source": [
    "## I. Group members \n",
    "- Group member \n",
    "    - Name: Anh Nguyen\n",
    "    - Email: an928@drexel.edu\n",
    "- Group member \n",
    "    - Name: Thuy Hong Doan\n",
    "    - Email: td688@drexel.edu\n",
    "- Group member \n",
    "    - Name: Alex Hoang\n",
    "    - Email: ah3754@drexel.edu"
   ]
  },
  {
   "attachments": {},
   "cell_type": "markdown",
   "metadata": {},
   "source": [
    "### Team members background:\n",
    "\n",
    "- __Anh Nguyen__:  \n",
    "\n",
    "- __Alex Hoang__: \n",
    "\n",
    "- __Thuy Hong Doan__: graduated with a bachelor of business administration in Computer Information Systems. Her skill set varies from different programming languages to analytical and problem-solving skills. She worked with HTML, CSS, SQL, JavaScript, and Python. She plans to use her previous coding experience and understanding of data structure to help successfully complete this project.\n",
    "\n",
    "#### Growth area :\n",
    "\n",
    "..."
   ]
  },
  {
   "attachments": {},
   "cell_type": "markdown",
   "metadata": {},
   "source": [
    "## II. Topic Summary \n",
    "..."
   ]
  },
  {
   "attachments": {},
   "cell_type": "markdown",
   "metadata": {},
   "source": [
    "## III. Term Project Phase 1: details \n",
    "\n",
    "__What is our selected dataset and why?__\n",
    "\n",
    "\n",
    "\n",
    "__What is the availability of relevant pre-processed data?__\n",
    "\n",
    "\n",
    "__What will the analysis do, and who/what it will support?__ \n",
    "\n",
    "\n",
    "\n",
    "__Who would be interested in the data analysis?__\n",
    "\n",
    "- \n",
    "- \n",
    "- \n",
    "__How your analysis might be completed and disseminated?__\n",
    "\n",
    "\n",
    "__How your analysis might fit into an application or investigation?__ \n",
    "\n",
    " \n",
    "\n",
    "\n",
    "__Limitations__\n",
    "\n",
    "- \n",
    "- \n",
    "- \n",
    "\n",
    "__Potential solutions__ \n",
    "\n",
    "- \n",
    "- \n",
    "- "
   ]
  },
  {
   "attachments": {},
   "cell_type": "markdown",
   "metadata": {},
   "source": [
    "### Potential Software used \n",
    "- Juypter notebook \n",
    "\n",
    "### Hardware used \n",
    "- \n",
    "- \n",
    "- Macbook Pro processor i5 RAM 8GB"
   ]
  },
  {
   "attachments": {},
   "cell_type": "markdown",
   "metadata": {},
   "source": [
    "## IV. Exploratory Data Analysis \n"
   ]
  },
  {
   "cell_type": "code",
   "execution_count": null,
   "metadata": {},
   "outputs": [],
   "source": []
  },
  {
   "attachments": {},
   "cell_type": "markdown",
   "metadata": {},
   "source": []
  },
  {
   "cell_type": "markdown",
   "metadata": {},
   "source": []
  }
 ],
 "metadata": {
  "kernelspec": {
   "display_name": "base",
   "language": "python",
   "name": "python3"
  },
  "language_info": {
   "codemirror_mode": {
    "name": "ipython",
    "version": 3
   },
   "file_extension": ".py",
   "mimetype": "text/x-python",
   "name": "python",
   "nbconvert_exporter": "python",
   "pygments_lexer": "ipython3",
   "version": "3.9.12"
  },
  "vscode": {
   "interpreter": {
    "hash": "0f083be24a3c4ca4eafb9144a9ba1d03a41977e5ec25243ab7d1ec85dfd57e9a"
   }
  }
 },
 "nbformat": 4,
 "nbformat_minor": 4
}
